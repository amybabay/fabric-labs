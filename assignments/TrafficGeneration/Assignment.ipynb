{
 "cells": [
  {
   "cell_type": "markdown",
   "id": "2f0dfd3f-ff07-4be7-a4ae-484cd46a5e4b",
   "metadata": {
    "tags": []
   },
   "source": [
    "#  Traffic Generation Assignment\n",
    "\n",
    "<b> Prerequisites  </b>\n",
    "* You need to have completed the Traffic Generation Experiment, if you have not completed this step you can click [Here](./TrafficGeneration.ipynb)"
   ]
  },
  {
   "cell_type": "markdown",
   "id": "ed761155-24c2-4d9d-9ec8-9c361ed16cd8",
   "metadata": {},
   "source": [
    "\n",
    "### 1 Running Nping\n",
    "1. Design an experiment in which you would use Nping for Traffic Generation.\n",
    "2. What would your experiment test?\n",
    "3. Why would realistic traffic be desired?\n",
    "4. What traffic source would you collect a header trace from?\n",
    "\n",
    "\n",
    "### 2 Running Nping\n",
    "1. Open Two terminals to node 1, on one of the terminals start the script using the following command ```./TG-output.sh```\n",
    "2. On the second terminal generate traffic similar using a command similar to the ones during the experiment\n",
    "3. Once the traffic generated on the second terminal is completed stop catching packets by running ```Ctrl-C``` on the first terminal (Keep in mind that depending on the length and time of the traffic you generated, this step might take some time)\n",
    "4. Use the following code block to download a graph of the throughput that Nping creates (with your command) as it runs."
   ]
  },
  {
   "cell_type": "code",
   "execution_count": 6,
   "id": "e98cf61f-73e6-42c5-a187-fcccaafd4b01",
   "metadata": {
    "scrolled": true,
    "tags": []
   },
   "outputs": [
    {
     "name": "stdout",
     "output_type": "stream",
     "text": [
      "     TCP time\n",
      "1   1894    0\n",
      "2   7187    1\n",
      "3   6350    2\n",
      "4   5852    3\n",
      "5   5839    4\n",
      "6   5773    5\n",
      "7   5516    6\n",
      "8   5149    7\n",
      "9   5244    8\n",
      "10  7195    9\n",
      "11  6645   10\n",
      "12  7462   11\n",
      "13  7558   12\n",
      "14  6540   13\n",
      "15  7424   14\n",
      "16  7464   15\n",
      "17  6429   16\n",
      "18  7385   17\n",
      "19  7526   18\n",
      "20  7553   19\n",
      "21  7611   20\n",
      "22  4873   21\n",
      "23  6832   22\n",
      "24  7881   23\n",
      "25  7039   24\n",
      "26  8191   25\n",
      "27  6293   26\n",
      "28  8355   27\n",
      "29  8418   28\n",
      "30  7370   29\n",
      "31  7503   30\n",
      "32  6347   31\n",
      "33  6626   32\n",
      "34  5554   33\n",
      "35  7995   34\n",
      "36  8024   35\n",
      "37  7363   36\n",
      "38  7552   37\n",
      "39  5761   38\n",
      "40  5499   39\n",
      "41  4163   40\n",
      "42  7689   41\n",
      "43  8461   42\n",
      "44  7402   43\n",
      "45  7485   44\n",
      "46  7756   45\n",
      "47  8223   46\n",
      "48  8227   47\n",
      "49  8073   48\n",
      "50  5260   49\n",
      "51  7490   50\n",
      "52  8231   51\n",
      "53  8083   52\n",
      "54  7652   53\n",
      "55  7458   54\n",
      "56  7648   55\n",
      "57  8257   56\n",
      "58  8128   57\n",
      "59  7836   58\n",
      "60  7833   59\n",
      "61  5328   60\n",
      "62  6788   61\n",
      "63  7803   62\n",
      "64  7608   63\n",
      "65  8014   64\n",
      "66  7950   65\n",
      "67  7722   66\n",
      "68  7851   67\n",
      "69  8074   68\n",
      "70  7968   69\n",
      "71  7987   70\n",
      "72  7537   71\n",
      "73  7739   72\n",
      "74  7972   73\n",
      "75  3618   74\n",
      "76  7647   75\n",
      "77  7785   76\n",
      "78  8160   77\n",
      "79  8388   78\n",
      "80  8146   79\n",
      "81  8165   80\n",
      "82  8204   81\n",
      "83  7852   82\n",
      "84  6914   83\n",
      "85  7429   84\n",
      "86  6391   85\n",
      "87  5603   86\n",
      "88  7231   87\n",
      "89  7959   88\n",
      "90  8030   89\n",
      "91  8039   90\n",
      "92  2999   91\n",
      "93  7760   92\n",
      "94  7478   93\n",
      "95  7360   94\n",
      "96  7665   95\n",
      "97  7679   96\n",
      "98  7654   97\n",
      "99  7536   98\n",
      "100    1   99\n",
      "101    1   99\n",
      "102 7679   99\n",
      "103 7607  100\n",
      "104 7324  101\n",
      "105 8077  102\n",
      "106 7843  103\n",
      "107 8299  104\n",
      "108 8272  105\n",
      "109 8249  106\n",
      "110 8259  107\n",
      "111 8152  108\n",
      "112 8295  109\n",
      "113 2945  110\n",
      "pdf \n",
      "  2 \n"
     ]
    }
   ],
   "source": [
    "from fabrictestbed_extensions.fablib.fablib import FablibManager as fablib_manager\n",
    "\n",
    "fablib = fablib_manager()\n",
    "import json\n",
    "import traceback\n",
    "\n",
    "slice_name = \"TrafficGeneration\"\n",
    "try:\n",
    "    slice = fablib.get_slice(slice_name)\n",
    "    A = slice.get_node('ND1')\n",
    "    A.execute(\"Rscript RT-data-analysis.R  \")\n",
    "    A.download_file(\"Traffic-RT.svg\",\"Traffic-RT.svg\")\n",
    "except Exception as e:\n",
    "    print(f\"Fail: {e}\")"
   ]
  },
  {
   "cell_type": "markdown",
   "id": "06c929ec-8a0f-4033-8d72-0d975e66d472",
   "metadata": {
    "tags": []
   },
   "source": [
    "## Cleanup Resources\n",
    "Once you have completed the assignment shut down the slice"
   ]
  },
  {
   "cell_type": "code",
   "execution_count": 7,
   "id": "552fbb0b-8982-4d57-883e-89b643517ab8",
   "metadata": {
    "tags": []
   },
   "outputs": [],
   "source": [
    "slice_name = \"TrafficGeneration\"\n",
    "try:\n",
    "    slice = fablib.get_slice(slice_name)\n",
    "    slice.delete()\n",
    "except Exception as e:\n",
    "    print(f\"Fail: {e}\")"
   ]
  },
  {
   "cell_type": "code",
   "execution_count": null,
   "id": "6a7373b2-f54d-454b-b12f-7daf5d9d889f",
   "metadata": {},
   "outputs": [],
   "source": []
  }
 ],
 "metadata": {
  "kernelspec": {
   "display_name": "Python 3 (ipykernel)",
   "language": "python",
   "name": "python3"
  },
  "language_info": {
   "codemirror_mode": {
    "name": "ipython",
    "version": 3
   },
   "file_extension": ".py",
   "mimetype": "text/x-python",
   "name": "python",
   "nbconvert_exporter": "python",
   "pygments_lexer": "ipython3",
   "version": "3.9.7"
  }
 },
 "nbformat": 4,
 "nbformat_minor": 5
}
