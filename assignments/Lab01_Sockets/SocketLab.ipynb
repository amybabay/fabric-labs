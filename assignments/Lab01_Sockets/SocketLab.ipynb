{
 "cells": [
  {
   "cell_type": "markdown",
   "id": "61856300-d7f4-4cc8-b5f9-5490fee46a53",
   "metadata": {
    "tags": []
   },
   "source": [
    "# Lab 1: Sockets\n",
    "    \n",
    "In this lab you will experiment with basic client-server programs.\n",
    "    \n",
    "<b> Prerequisites  \n",
    "    \n",
    "* You need to have your FABRIC bastion host key pair set up to do this tutorial. If you have not already set this up, follow steps 1-3 at https://learn.fabric-testbed.net/knowledge-base/logging-into-fabric-vms/.\n",
    "* You should be comfortable using ssh and executing basic commands using a UNIX shell. [Tips about how to login to hosts.](https://learn.fabric-testbed.net/knowledge-base/logging-into-fabric-vms/)\n",
    "\n",
    "Note that this is the second step in this assignment. If you have not already created your slice, go to slice creation notebook or click [Here](./CreateSlice.ipynb)"
   ]
  },
  {
   "cell_type": "markdown",
   "id": "465f9929-6e09-4e67-8379-be6419b62fcd",
   "metadata": {},
   "source": [
    "## 1. Set up the Experiment\n"
   ]
  },
  {
   "cell_type": "markdown",
   "id": "b800f09d-94b1-4f51-ba2d-eceb4ff34e4a",
   "metadata": {},
   "source": [
    "### 1.1  Retrieve Slice\n",
    "Create the slice at the [Create Slice Notebook](./CreateSlice.ipynb) and import it here.\n"
   ]
  },
  {
   "cell_type": "code",
   "execution_count": null,
   "id": "4622807f-d315-4d10-8f7a-69f763e926ae",
   "metadata": {},
   "outputs": [],
   "source": [
    "from fabrictestbed_extensions.fablib.fablib import FablibManager as fablib_manager\n",
    "\n",
    "fablib = fablib_manager()\n",
    "                     \n",
    "fablib.show_config()\n",
    "\n",
    "import json\n",
    "import traceback"
   ]
  },
  {
   "cell_type": "code",
   "execution_count": null,
   "id": "968dbb3f-f033-4989-96df-8b0956eed211",
   "metadata": {},
   "outputs": [],
   "source": [
    "slice_name = \"Lab01_Sockets\"\n",
    "slice = fablib.get_slice(slice_name)\n",
    "slice.list_nodes()"
   ]
  },
  {
   "cell_type": "markdown",
   "id": "f817b5a8-20c7-4585-971d-d37bee9edd4a",
   "metadata": {},
   "source": [
    "### 1.2 Upload files\n",
    "Upload test programs to each node."
   ]
  },
  {
   "cell_type": "code",
   "execution_count": null,
   "id": "f8369b80-9627-4f3d-821a-c5997e382688",
   "metadata": {
    "scrolled": true,
    "tags": []
   },
   "outputs": [],
   "source": [
    "for node in slice.get_nodes():\n",
    "    \n",
    "    node.upload_file(\"testprogs/UDP_Echo_Client.py\",\"UDP_Echo_Client.py\")\n",
    "    node.upload_file(\"testprogs/UDP_Echo_Server.py\",\"UDP_Echo_Server.py\")\n",
    "    \n",
    "    node.upload_file(\"testprogs/TCP_Echo_Client.py\",\"TCP_Echo_Client.py\")\n",
    "    node.upload_file(\"testprogs/TCP_Echo_Server.py\",\"TCP_Echo_Server.py\")\n",
    "    \n",
    "    node.upload_file(\"testprogs/UDP_Ping_Client.py\",\"UDP_Ping_Client.py\")\n",
    "    node.upload_file(\"testprogs/UDP_Ping_Server.py\",\"UDP_Ping_Server.py\")\n",
    "    \n",
    "    node.upload_file(\"testprogs/TCP_Ping_Client.py\",\"TCP_Ping_Client.py\")\n",
    "    node.upload_file(\"testprogs/TCP_Ping_Server.py\",\"TCP_Ping_Server.py\")\n",
    "    "
   ]
  },
  {
   "cell_type": "markdown",
   "id": "effb804c-23e4-47c0-beb1-82f33882842c",
   "metadata": {
    "tags": []
   },
   "source": [
    "\n",
    "## 2. Run Experiment\n",
    "\n",
    "### 2.1 Getting Started\n",
    "\n",
    "1. SSH into each node:\n",
    "    - Go to the [Experiments](https://portal.fabric-testbed.net/experiments) page in the Fabric portal.\n",
    "    - Click on the \"telcom2310-fall23-babay\" project\n",
    "    - Click on \"Slices\" (on the lefthand side of the page)\n",
    "    - Click on the \"Lab01_Sockets\" slice. This should bring up a visual representation of your topology.\n",
    "    - For each node:\n",
    "        - Click on that node and copy the provided \"SSH Command\". This should be something like `ssh -F <path to SSH config file> -i <path to private sliver key> ubuntu@205.172.170.122`\n",
    "        - Open a terminal window (either on your local machine or in the JupyterHub) and enter the copied command, replacing `<path to SSH config file>` and `<path to private sliver key>` with the correct paths. For example, on JupyterHub, this would look like `ssh -F ~/work/fabric_config/ssh_config -i ~/work/fabric_config/fabric_sliver_key ubuntu@205.172.170.122`\n",
    "        \n",
    "2. Find the IP address for each node:\n",
    "\n",
    "In the terminal of each node, enter the command `ip addr`.\n",
    "\n",
    "\n",
    "### 2.2 Echo Programs\n",
    "\n",
    "1. Review the code for the `UDP_Echo_Client.py` and `UDP_Echo_Server.py` programs (we will do this together in class). Note that you can use your preferred text editor on your own computer to view copies downloaded from Canvas. Or you can view them on a remote Fabric node using the command `cat <filename>` (e.g. `cat UDP_Echo_Server.py`) to print the file contents to your terminal window.\n",
    "\n",
    "2. Run the UDP_Echo_Server.py program on your GENI Node 1 using the command:\n",
    "```\n",
    "python3 UDP_Echo_Server.py\n",
    "```\n",
    "\n",
    "3. Run the UDP_Echo_Client.py program on your GENI Node 2 using the command:\n",
    "```\n",
    "python3 UDP_Echo_Client.py -a <Node1_IP_Address>\n",
    "```\n",
    "\n",
    "where `<Node1_IP_Address>` is replaced with the IP address of your Server Node found in the “Getting Started” section above\n",
    "\n",
    "You should be prompted to enter a message. Type in a word/sentence/phrase of your choice and hit enter.\n",
    "\n",
    "The `UDP_Echo_Server.py` program running on your Server Node should receive the message, transform it to all UPPERCASE and echo it back to the client.\n",
    "**Copy and paste the output from your server and client into Lab1.docx**\n",
    "\n",
    "Note that the server will continue to wait for messages until it is manually killed. You can run the client as many times as you want (without stopping the server) and it should receive and echo the message back each time. To stop the server, use CTRL-C to kill the process.\n",
    "\n",
    "4. Repeat steps 1-3 above for `TCP_Echo_Server.py` and `TCP_Echo_Client.py`\n",
    "**Copy and paste the output from your server and client into Lab1.docx**\n"
   ]
  },
  {
   "cell_type": "markdown",
   "id": "89980fda-675d-4639-b9a7-8512606605f6",
   "metadata": {
    "tags": []
   },
   "source": [
    "## Continue to The Assignment notebook\n",
    "\n",
    "Once You have completed this notebook you should be able to continue to the OSPF Assignment Notebook, you can ether open it on the explorer or click [Here](./Assignment.ipynb) to open the next notebook."
   ]
  },
  {
   "cell_type": "code",
   "execution_count": null,
   "id": "c27c80bd-1c88-46cf-8ef5-1cd39f6d45f6",
   "metadata": {},
   "outputs": [],
   "source": []
  }
 ],
 "metadata": {
  "kernelspec": {
   "display_name": "Python 3 (ipykernel)",
   "language": "python",
   "name": "python3"
  },
  "language_info": {
   "codemirror_mode": {
    "name": "ipython",
    "version": 3
   },
   "file_extension": ".py",
   "mimetype": "text/x-python",
   "name": "python",
   "nbconvert_exporter": "python",
   "pygments_lexer": "ipython3",
   "version": "3.10.6"
  }
 },
 "nbformat": 4,
 "nbformat_minor": 5
}
