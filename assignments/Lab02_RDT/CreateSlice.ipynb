{
 "cells": [
  {
   "cell_type": "markdown",
   "id": "5f373d6e-223a-479a-971c-c39c02aa1390",
   "metadata": {},
   "source": [
    "# Create Slice for Fabric Rack\n",
    "This is the slice creation for the ```RDTLab``` tutorial, This is the first step of the assignment, to create the slice on fabric using fablib\n",
    " "
   ]
  },
  {
   "cell_type": "code",
   "execution_count": null,
   "id": "3e84a125-c5f8-4b38-ada2-b585ee5a83ab",
   "metadata": {},
   "outputs": [],
   "source": [
    "from fabrictestbed_extensions.fablib.fablib import FablibManager as fablib_manager\n",
    "\n",
    "fablib = fablib_manager()\n",
    "                     \n",
    "fablib.show_config()\n",
    "\n",
    "import json\n",
    "import traceback"
   ]
  },
  {
   "cell_type": "code",
   "execution_count": null,
   "id": "c750ec14-1761-4592-8530-78edd3968a4a",
   "metadata": {},
   "outputs": [],
   "source": [
    "slice_name = \"Lab02_RDT\"\n",
    "\n",
    "# Get two sites in different geographic locations, one west of St. Louis, and one east of St. Louis\n",
    "st_louis_lat_long=(32.773081, -96.797448)\n",
    "west_site = fablib.get_random_site(filter_function=lambda x: x['nic_basic_available'] > 0 and x['location'][1] < st_louis_lat_long[1])                                                                                                                                                                                                                           \n",
    "east_site = fablib.get_random_site(filter_function=lambda x: x['nic_basic_available'] > 0 and x['location'][1] > st_louis_lat_long[1])                                                                                                                                                                                                                           \n",
    "\n",
    "print(f\"west_site: {west_site}\")\n",
    "print(f\"east_site: {east_site}\")\n",
    "\n",
    "nicmodel = \"NIC_Basic\"\n",
    "image = \"default_ubuntu_20\"\n",
    "\n",
    "cores = 1\n",
    "ram = 4\n",
    "disk = 100"
   ]
  },
  {
   "cell_type": "code",
   "execution_count": null,
   "id": "a206b6be-d3f8-4e6f-ab42-f0ea79c23d7b",
   "metadata": {},
   "outputs": [],
   "source": [
    "#A topology 2 nodes, a client and server\n",
    "try:\n",
    "    #Create Slice\n",
    "    slice = fablib.new_slice(name=slice_name)\n",
    "    \n",
    "    #Client Node\n",
    "    client = slice.add_node(name=\"client\", site=east_site)\n",
    "    client.set_image('default_ubuntu_20')\n",
    "    client.add_fabnet() \n",
    "    \n",
    "    #Server Node\n",
    "    server = slice.add_node(name=\"server\", site=east_site)\n",
    "    server.set_image('default_ubuntu_20')\n",
    "    server.add_fabnet()\n",
    "    \n",
    "    #Submit Slice Request\n",
    "    slice.submit()\n",
    "    \n",
    "except Exception as e:\n",
    "    print(f\"Slice Failed: {e}\")"
   ]
  },
  {
   "cell_type": "markdown",
   "id": "f60750e1-b1a9-4892-970b-ded9f21475da",
   "metadata": {
    "tags": []
   },
   "source": [
    "## Continue to the experiment notebook\n",
    "\n",
    "Once You have completed this notebook you should be able to continue to the SocketLab Notebook, you can either open it on the explorer or click [Here](./SocketLab.ipynb) to open the next notebook."
   ]
  },
  {
   "cell_type": "code",
   "execution_count": null,
   "id": "ec0e6a4b-b487-4a11-8d2a-835da0786a56",
   "metadata": {},
   "outputs": [],
   "source": []
  }
 ],
 "metadata": {
  "kernelspec": {
   "display_name": "Python 3 (ipykernel)",
   "language": "python",
   "name": "python3"
  },
  "language_info": {
   "codemirror_mode": {
    "name": "ipython",
    "version": 3
   },
   "file_extension": ".py",
   "mimetype": "text/x-python",
   "name": "python",
   "nbconvert_exporter": "python",
   "pygments_lexer": "ipython3",
   "version": "3.10.6"
  }
 },
 "nbformat": 4,
 "nbformat_minor": 5
}
