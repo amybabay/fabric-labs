{
 "cells": [
  {
   "cell_type": "markdown",
   "id": "2f0dfd3f-ff07-4be7-a4ae-484cd46a5e4b",
   "metadata": {
    "tags": []
   },
   "source": [
    "#  RTT Window size Assignment\n",
    "\n",
    "<b> Prerequisites  </b>\n",
    "* You need to have completed the RTT and Window size effects on TCP Experiment"
   ]
  },
  {
   "cell_type": "markdown",
   "id": "ed761155-24c2-4d9d-9ec8-9c361ed16cd8",
   "metadata": {},
   "source": [
    "\n",
    "### Part 1: Setup\n",
    "For this assignment, you will utilize the total traffic graphs to plot and compare the results of adjusting the RTT and Window size parameters. Run experiments for every combination of the two window sizes (4KB and 32KB) and two delay amounts (50ms and 250ms), and take a screenshot of the graphs from both nodes after each experiment has completed. You should have 8 pictures in total (e.g. one image for each of the two nodes for each of the following combinations: 4KB and 50ms, 4KB and 250ms, 32KB and 50ms, and 32KB and 250ms).\n",
    "\n",
    "### Part 2: Analysis\n",
    "You should have noticed a large difference in average throughput between the 4KB and 250ms case and the 32KB and 50ms case.\n",
    "\n",
    "Justify this difference in your own words and by referencing the TCP equation given in your notes.\n",
    "\n",
    "*Note: If you actually work out the math with the TCP equation, you should use the total delay of your system, not just the delay you added.*\n"
   ]
  },
  {
   "cell_type": "markdown",
   "id": "06c929ec-8a0f-4033-8d72-0d975e66d472",
   "metadata": {
    "tags": []
   },
   "source": [
    "## Cleanup Resources\n",
    "Once you have completed the assignment shut down the slice"
   ]
  },
  {
   "cell_type": "code",
   "execution_count": 5,
   "id": "552fbb0b-8982-4d57-883e-89b643517ab8",
   "metadata": {
    "tags": []
   },
   "outputs": [],
   "source": [
    "try:\n",
    "    slice = fablib.get_slice(slice_name)\n",
    "    slice.delete()\n",
    "except Exception as e:\n",
    "    print(f\"Fail: {e}\")"
   ]
  },
  {
   "cell_type": "code",
   "execution_count": null,
   "id": "6a7373b2-f54d-454b-b12f-7daf5d9d889f",
   "metadata": {},
   "outputs": [],
   "source": []
  }
 ],
 "metadata": {
  "kernelspec": {
   "display_name": "Python 3 (ipykernel)",
   "language": "python",
   "name": "python3"
  },
  "language_info": {
   "codemirror_mode": {
    "name": "ipython",
    "version": 3
   },
   "file_extension": ".py",
   "mimetype": "text/x-python",
   "name": "python",
   "nbconvert_exporter": "python",
   "pygments_lexer": "ipython3",
   "version": "3.9.7"
  }
 },
 "nbformat": 4,
 "nbformat_minor": 5
}
